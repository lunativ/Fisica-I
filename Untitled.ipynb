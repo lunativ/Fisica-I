{
 "cells": [
  {
   "cell_type": "code",
   "execution_count": 1,
   "metadata": {},
   "outputs": [
    {
     "ename": "SyntaxError",
     "evalue": "Missing parentheses in call to 'print'. Did you mean print(u'Punto fijo no converge para phi = %d°' % n)? (<ipython-input-1-fbf920e5815b>, line 24)",
     "output_type": "error",
     "traceback": [
      "\u001b[0;36m  File \u001b[0;32m\"<ipython-input-1-fbf920e5815b>\"\u001b[0;36m, line \u001b[0;32m24\u001b[0m\n\u001b[0;31m    print u'Punto fijo no converge para phi = %d°' % n\u001b[0m\n\u001b[0m                                                 ^\u001b[0m\n\u001b[0;31mSyntaxError\u001b[0m\u001b[0;31m:\u001b[0m Missing parentheses in call to 'print'. Did you mean print(u'Punto fijo no converge para phi = %d°' % n)?\n"
     ]
    }
   ],
   "source": [
    "from numpy import *\n",
    "import pylab\n",
    "\n",
    "# Parámetros\n",
    "g = 9.81;\n",
    "k = 2;\n",
    "phi = 0.0;\n",
    "v = 50.0;\n",
    "\n",
    "# Posición de la partícula en función del tiempo\n",
    "for n in range(15,90,15):\n",
    "    # Iteramos sobre el valor del ángulo de disparo\n",
    "    phi = radians(n);\n",
    "\n",
    "    # Hallar tau mediante el método del punto fijo\n",
    "    tau = 0.1; # Suposición inicial, basta con t > 0.\n",
    "    tmp = 0;\n",
    "    m = 0;\n",
    "    ignorar = False;\n",
    "    while (abs(tau - tmp) > 1e-4):\n",
    "        tmp = tau;\n",
    "        tau = ((k*v*sin(phi) + g)/(g*k))*(1 - exp(-k*tau));\n",
    "        if (m > 10000):\n",
    "            print u'Punto fijo no converge para phi = %d°' % n\n",
    "            ignorar = True;\n",
    "            break;\n",
    "    \n",
    "    # Calcular y graficar trayectoria\n",
    "    if (ignorar==False):\n",
    "        print u'tau=%.4f para phi=%.1f°' % (tau,degrees(phi))\n",
    "        t = linspace(0,tau,100);\n",
    "        x = (v*cos(phi)/k)*(1 - exp(-k*t));\n",
    "        y = ((k*v*sin(phi) + g)/(k**2))*(1 - exp(-k*t)) - t*(g/k);    \n",
    "        pylab.plot(x,y,label=u'$\\phi ={0}$'.format(degrees(phi)));\n",
    "\n",
    "# Detalles de la gráfica\n",
    "pylab.xlabel('$x$ (m)');\n",
    "pylab.ylabel('$y$ (m)');\n",
    "pylab.title(u'Trayectoria de una partícula en un medio resistente: $F_R = kmv$');\n",
    "pylab.grid(True);\n",
    "pylab.axis('auto');\n",
    "pylab.legend();\n",
    "pylab.annotate('$k = 2$', xy=(2, 15), xytext=(2, 15), fontsize=14);\n",
    "pylab.savefig('trayectoria.png', format='png');\n",
    "pylab.show();"
   ]
  },
  {
   "cell_type": "code",
   "execution_count": null,
   "metadata": {},
   "outputs": [],
   "source": []
  }
 ],
 "metadata": {
  "kernelspec": {
   "display_name": "Python 3",
   "language": "python",
   "name": "python3"
  },
  "language_info": {
   "codemirror_mode": {
    "name": "ipython",
    "version": 3
   },
   "file_extension": ".py",
   "mimetype": "text/x-python",
   "name": "python",
   "nbconvert_exporter": "python",
   "pygments_lexer": "ipython3",
   "version": "3.7.3"
  }
 },
 "nbformat": 4,
 "nbformat_minor": 4
}
