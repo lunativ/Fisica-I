{
 "cells": [
  {
   "cell_type": "code",
   "execution_count": null,
   "metadata": {},
   "outputs": [],
   "source": [
    "import numpy as np # importando numpy\n",
    "from scipy import stats # importando scipy.stats\n",
    "import pandas as pd # importando pandas\n",
    "#Si da error de dependencias instalar:\n",
    "#pip install scipy\n",
    "#pip install pandas\n",
    "#pip install seaborn"
   ]
  },
  {
   "cell_type": "markdown",
   "metadata": {},
   "source": [
    "Ejercicio 5: carga de datos:"
   ]
  },
  {
   "cell_type": "code",
   "execution_count": null,
   "metadata": {},
   "outputs": [],
   "source": [
    "datos_ej5 = [1.65, 1.77, 1.54, 1.79, 1.58, 1.72, 1.77, 1.69, 1.86, 1.87, 1.62, 1.69, 1.61, 1.69, 1.8, 1.71, 1.79, 1.6, 1.68, 1.74, 1.7, 1.57, 1.64, 1.7, 1.92, 1.63, 1.79, 1.68, 1.47, 1.77, 1.63, 1.84, 1.77, 1.7, 1.61, 1.8, 1.57, 1.82, 1.81, 1.81, 1.68, 1.78, 1.54, 1.66, 1.73, 1.72, 1.95, 1.84, 1.59, 1.82, 1.72, 1.52, 1.6, 1.78, 1.71, 1.53, 1.79, 1.75, 1.76, 1.8, 1.69, 1.63, 1.82, 1.84, 1.59, 1.59, 1.84, 1.64, 1.88, 1.72, 1.87, 1.58, 1.68, 1.8, 1.66, 1.68, 1.53, 1.69, 1.68, 1.74, 1.71, 1.63, 1.83, 1.53, 1.98, 1.58, 1.72, 1.71, 1.68, 1.9, 1.88, 1.66, 1.8, 1.83, 1.79, 1.9, 1.79, 1.71, 1.76, 1.56];\n",
    "datos_ej5 = np.array(datos_ej5);\n",
    "datos_ej5"
   ]
  },
  {
   "cell_type": "markdown",
   "metadata": {},
   "source": [
    "Calculo de media, varianza y desviacion estandar:"
   ]
  },
  {
   "cell_type": "code",
   "execution_count": null,
   "metadata": {},
   "outputs": [],
   "source": [
    "print(f'Valor medio: {datos_ej5.mean():.2f}') \n",
    "print(f'Varianza: {datos_ej5.var():.2f}')\n",
    "print(f'Desviacion estandar: {datos_ej5.std():.2f}')\n",
    "print(f'Incertidumbre: {datos_ej5.std()/np.sqrt(100):.2f}')"
   ]
  },
  {
   "cell_type": "markdown",
   "metadata": {},
   "source": [
    "Construccion del histograma:"
   ]
  },
  {
   "cell_type": "code",
   "execution_count": null,
   "metadata": {},
   "outputs": [],
   "source": [
    "# Graficos embebidos.\n",
    "%matplotlib inline\n",
    "import matplotlib.pyplot as plt # importando matplotlib\n",
    "import seaborn as sns # importando seaborn\n",
    "\n",
    "# parametros esteticos de seaborn\n",
    "sns.set_palette(\"deep\", desat=.6)\n",
    "sns.set_context(rc={\"figure.figsize\": (8, 4)})"
   ]
  },
  {
   "cell_type": "markdown",
   "metadata": {},
   "source": [
    "Se crea un conjunto de 1000 datos con una distribucion normal con igual media y varianza que los datos de la muestra:"
   ]
  },
  {
   "cell_type": "code",
   "execution_count": null,
   "metadata": {},
   "outputs": [],
   "source": [
    "#distribucion normal teorica\n",
    "mu, sigma = datos_ej5.mean(), datos_ej5.std() # media y desvio estandar del ejercicio 5\n",
    "s = np.random.normal(mu, sigma, 1000) #creando muestra de datos "
   ]
  },
  {
   "cell_type": "code",
   "execution_count": null,
   "metadata": {},
   "outputs": [],
   "source": [
    "# histograma de distribución normal.\n",
    "cuenta, cajas, ignorar = plt.hist(s, 10, density = True)\n",
    "normal = plt.plot(cajas, 1/(sigma * np.sqrt(2 * np.pi)) *\n",
    "         np.exp( - (cajas - mu)**2 / (2 * sigma**2) ),\n",
    "         linewidth=2, color='r')\n",
    "plt.ylabel('Frecuencia')\n",
    "plt.xlabel('Clases (Longitud)')\n",
    "plt.title('Histograma de distribucion normal equivalente a la del ejercicio 5: 10 clases')\n",
    "plt.savefig('Distribucion_normal_h10.png')"
   ]
  },
  {
   "cell_type": "code",
   "execution_count": null,
   "metadata": {},
   "outputs": [],
   "source": [
    "# histograma de los datos del ejercicio 5:\n",
    "cuenta, cajas, ignorar = plt.hist(datos_ej5, 10, density = True)\n",
    "normal = plt.plot(cajas, 1/(sigma * np.sqrt(2 * np.pi)) *\n",
    "         np.exp( - (cajas - mu)**2 / (2 * sigma**2) ),\n",
    "         linewidth=2, color='r')\n",
    "plt.ylabel('Frecuencia')\n",
    "plt.xlabel('Clases (Longitud)')\n",
    "plt.title('Histograma ejercicio 5: 10 clases')\n",
    "plt.savefig('Histograma_ej5_10clases.png')"
   ]
  },
  {
   "cell_type": "code",
   "execution_count": null,
   "metadata": {},
   "outputs": [],
   "source": []
  }
 ],
 "metadata": {
  "kernelspec": {
   "display_name": "Python 3",
   "language": "python",
   "name": "python3"
  },
  "language_info": {
   "codemirror_mode": {
    "name": "ipython",
    "version": 3
   },
   "file_extension": ".py",
   "mimetype": "text/x-python",
   "name": "python",
   "nbconvert_exporter": "python",
   "pygments_lexer": "ipython3",
   "version": "3.7.6"
  }
 },
 "nbformat": 4,
 "nbformat_minor": 4
}
